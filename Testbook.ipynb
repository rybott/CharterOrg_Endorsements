{
 "cells": [
  {
   "cell_type": "code",
   "execution_count": 2,
   "metadata": {},
   "outputs": [],
   "source": [
    "from bs4 import BeautifulSoup\n",
    "import requests\n",
    "import sqlite3 as sql\n",
    "import pandas as pd\n",
    "import duckdb as ddb\n",
    "\n",
    "conn = sql.connect('Celebrity.db')"
   ]
  },
  {
   "cell_type": "markdown",
   "metadata": {},
   "source": [
    "# Main Scraping of Data"
   ]
  },
  {
   "cell_type": "code",
   "execution_count": 16,
   "metadata": {},
   "outputs": [],
   "source": [
    "# Add a List of Organizations\n",
    "Organizations = [\"peta\".lower()]\n",
    "\n",
    "for Organization in Organizations:\n",
    "  url = f'https://www.looktothestars.org/charity/{Organization}'\n",
    "  response = requests.get(url)\n",
    "  soup = BeautifulSoup(response.content, 'html.parser')\n",
    "\n",
    "  supporters = soup.find('section', {'id': 'supporters'})\n",
    "  celebrities = supporters.find_all('div', {'class': 'media-body'})\n",
    "\n",
    "  List_Celebrities = []\n",
    "  for celebrity in celebrities:\n",
    "    name_clean = celebrity.text\n",
    "    combined_name = [Organization, name_clean]\n",
    "    List_Celebrities.append(combined_name)\n",
    "\n",
    "CelebrityOrg_df = pd.DataFrame(List_Celebrities, columns=['Organization', 'Name'])\n",
    "CelebrityOrg_df = CelebrityOrg_df.drop_duplicates(subset=['Name']).copy()\n"
   ]
  },
  {
   "cell_type": "markdown",
   "metadata": {},
   "source": [
    "## Pulling the Kaggle Dataset that includes the occupation and Yearly income \n",
    "\n",
    "### How to Use .drop_duplicates\n",
    "- df.drop_duplicates(subset=['column_name1', 'column_name2'])\n",
    "    - Looks at just the columns specified\n",
    "- df.drop_duplicates(keep='  ')\n",
    "    - \"Last\" = Keeps Last Occurence\n",
    "    - None = Removes all occurences that are duplicates"
   ]
  },
  {
   "cell_type": "markdown",
   "metadata": {},
   "source": [
    "### Process Kaggle Dataset and Combine"
   ]
  },
  {
   "cell_type": "code",
   "execution_count": 4,
   "metadata": {},
   "outputs": [
    {
     "name": "stdout",
     "output_type": "stream",
     "text": [
      "<class 'pandas.core.frame.DataFrame'>\n",
      "RangeIndex: 15 entries, 0 to 14\n",
      "Data columns (total 4 columns):\n",
      " #   Column        Non-Null Count  Dtype  \n",
      "---  ------        --------------  -----  \n",
      " 0   Name          15 non-null     object \n",
      " 1   Organization  15 non-null     object \n",
      " 2   Category      15 non-null     object \n",
      " 3   Pay           15 non-null     float64\n",
      "dtypes: float64(1), object(3)\n",
      "memory usage: 612.0+ bytes\n",
      "None\n"
     ]
    }
   ],
   "source": [
    "kaggle_celebrities = pd.read_excel(\"list of celebrities from Kaggle.xlsx\")\n",
    "Unique_Kaggle_Celebrities = kaggle_celebrities.drop_duplicates(subset=['Name']).copy()\n",
    "Unique_Kaggle_Celebrities['Pay'] = Unique_Kaggle_Celebrities['Pay (USD millions)']\n",
    "Kaggle_Celebrities_df = Unique_Kaggle_Celebrities.drop(['Year','Pay (USD millions)'], axis= 1)\n",
    "\n",
    "# Combining Kaggle with WebScraped\n",
    "qry_combine = '''\n",
    "    SELECT CO.Name, CO.Organization, CK.Category, CK.Pay\n",
    "    FROM CelebrityOrg_df AS CO\n",
    "    JOIN Kaggle_Celebrities_df AS CK ON CO.Name = CK.Name\n",
    "'''\n",
    "\n",
    "Names_on_Kaggle = ddb.sql(qry_combine).df()\n",
    "print(Names_on_Kaggle.info())"
   ]
  },
  {
   "cell_type": "markdown",
   "metadata": {},
   "source": [
    "### Update the Webscraped DB marking the Kaggle Matches"
   ]
  },
  {
   "cell_type": "code",
   "execution_count": 24,
   "metadata": {},
   "outputs": [
    {
     "name": "stdout",
     "output_type": "stream",
     "text": [
      "<class 'pandas.core.frame.DataFrame'>\n",
      "Int64Index: 269 entries, 0 to 268\n",
      "Data columns (total 5 columns):\n",
      " #   Column          Non-Null Count  Dtype  \n",
      "---  ------          --------------  -----  \n",
      " 0   Organization_x  269 non-null    object \n",
      " 1   Name            269 non-null    object \n",
      " 2   Category        15 non-null     object \n",
      " 3   Pay             15 non-null     float64\n",
      " 4   Celeb_ID        269 non-null    int64  \n",
      "dtypes: float64(1), int64(1), object(3)\n",
      "memory usage: 12.6+ KB\n",
      "None\n",
      "  Organization_x              Name Category  Pay  Celeb_ID  Org_ID\n",
      "0           peta  Adriana de Moura      NaN  NaN         1    1000\n",
      "1           peta   Aimee Teegarden      NaN  NaN         2    1000\n",
      "2           peta     Aishwarya Rai      NaN  NaN         3    1000\n",
      "3           peta      Alan Cumming      NaN  NaN         4    1000\n",
      "4           peta       Alan Davies      NaN  NaN         5    1000\n"
     ]
    },
    {
     "data": {
      "text/plain": [
       "269"
      ]
     },
     "execution_count": 24,
     "metadata": {},
     "output_type": "execute_result"
    }
   ],
   "source": [
    "\n",
    "merged_df = pd.merge(CelebrityOrg_df, Names_on_Kaggle, on='Name', how='left')\n",
    "Org_Celeb_merged_df = merged_df.drop(['Organization_y'],axis=1)\n",
    "\n",
    "Organization_df = []\n",
    "celebrity_df = []\n",
    "\n",
    "# Adding the Celeb and Org IDs now because it is easier\n",
    "CelebID_df = Org_Celeb_merged_df[['Name']].drop_duplicates(subset=['Name']).copy()\n",
    "CelebID_df['Celeb_ID'] = range(1, len(CelebID_df)+1)\n",
    "OrgID_df = Org_Celeb_merged_df[['Organization_x']].drop_duplicates(subset=['Organization_x']).copy()\n",
    "OrgID_df['Org_ID'] = range(1000, 1000 + len(OrgID_df))\n",
    "\n",
    "Org_Celeb_merged_df = pd.merge(Org_Celeb_merged_df, CelebID_df, on='Name', how='inner')\n",
    "Org_Celeb_merged_df = pd.merge(Org_Celeb_merged_df, OrgID_df, on='Organization_x', how='inner')\n",
    "\n",
    "Org_Celeb_merged_df.to_sql('Combined_Org_Celeb', conn, if_exists='replace', index=False)\n"
   ]
  },
  {
   "cell_type": "markdown",
   "metadata": {},
   "source": [
    "# Creating RDB\n",
    "### Structure\n",
    "- Celebrity_tbl\n",
    "    - Celeb_ID\n",
    "    - Full Name\n",
    "    - Category \n",
    "    - Pay\n",
    "    - Accounted_For (T/F)\n",
    "\n",
    "- Organization_tbl\n",
    "    - Org_ID\n",
    "    - Description (Needs to be added)\n",
    "\n",
    "\n"
   ]
  },
  {
   "cell_type": "code",
   "execution_count": 25,
   "metadata": {},
   "outputs": [
    {
     "ename": "OperationalError",
     "evalue": "no such function: FIRST",
     "output_type": "error",
     "traceback": [
      "\u001b[1;31m---------------------------------------------------------------------------\u001b[0m",
      "\u001b[1;31mOperationalError\u001b[0m                          Traceback (most recent call last)",
      "Cell \u001b[1;32mIn[25], line 25\u001b[0m\n\u001b[0;32m     23\u001b[0m create_org_tbl \u001b[39m=\u001b[39m \u001b[39mf\u001b[39m\u001b[39m\"\u001b[39m\u001b[39mCREATE TABLE Chartered_Orgs AS \u001b[39m\u001b[39m{\u001b[39;00mOrg_qry\u001b[39m}\u001b[39;00m\u001b[39m\"\u001b[39m\n\u001b[0;32m     24\u001b[0m create_Join_tbl \u001b[39m=\u001b[39m \u001b[39mf\u001b[39m\u001b[39m\"\u001b[39m\u001b[39mCREATE TABLE Join_tbl AS \u001b[39m\u001b[39m{\u001b[39;00mJoin_tbl_query\u001b[39m}\u001b[39;00m\u001b[39m\"\u001b[39m\n\u001b[1;32m---> 25\u001b[0m cursor\u001b[39m.\u001b[39;49mexecute(create_celeb_tbl)\n\u001b[0;32m     26\u001b[0m cursor\u001b[39m.\u001b[39mexecute(create_org_tbl)\n\u001b[0;32m     27\u001b[0m cursor\u001b[39m.\u001b[39mexecute(create_Join_tbl)\n",
      "\u001b[1;31mOperationalError\u001b[0m: no such function: FIRST"
     ]
    }
   ],
   "source": [
    "# Normalizing the Data with Multiple Tables\n",
    "\n",
    "cursor = conn.cursor()\n",
    "\n",
    "celeb_qry = '''\n",
    "    SELECT Celeb_ID, Name, FIRST(Category) AS Category, FIRST(Pay) AS Salary\n",
    "    FROM Combined_Org_Celeb\n",
    "    GROUP BY Name, Celeb_ID \n",
    "'''\n",
    "Org_qry = '''\n",
    "    SELECT Org_ID, Organization_x AS Organization\n",
    "    FROM Combined_Org_Celeb\n",
    "    GROUP BY Org_ID, Organization\n",
    "'''\n",
    "# Because it will be a Many to Many Relationship\n",
    "Join_tbl_query = '''\n",
    "    SELECT Celeb_ID, Org_ID\n",
    "    FROM Combined_Org_Celeb\n",
    "    GROUP BY Org_ID, Celeb_ID\n",
    "'''\n",
    "\n",
    "create_celeb_tbl = f\"CREATE TABLE Celeberties AS {celeb_qry}\"\n",
    "create_org_tbl = f\"CREATE TABLE Chartered_Orgs AS {Org_qry}\"\n",
    "create_Join_tbl = f\"CREATE TABLE Join_tbl AS {Join_tbl_query}\"\n",
    "cursor.execute(create_celeb_tbl)\n",
    "cursor.execute(create_org_tbl)\n",
    "cursor.execute(create_Join_tbl)\n",
    "conn.commit()\n",
    "\n",
    "cursor.close()\n",
    "conn.close()\n"
   ]
  },
  {
   "cell_type": "markdown",
   "metadata": {},
   "source": [
    "# Testing"
   ]
  },
  {
   "cell_type": "code",
   "execution_count": null,
   "metadata": {},
   "outputs": [],
   "source": [
    "cursor = conn.cursor()\n",
    "\n",
    "table_name =\"Results_Combined_Celebrities\"\n",
    "query = '''\n",
    "SELECT CO.Name, CO.Organization, CK.Category, CK.Pay\n",
    "FROM Celebrity_Org AS CO\n",
    "JOIN Kaggle_Celebrities AS CK ON CO.Name = CK.Name\n",
    "'''\n",
    "\n",
    "df = pd.read_sql_query(query, conn)\n",
    "print(df.info())\n",
    "\n",
    "'''\n",
    "create_table_qry = f\"CREATE TABLE {table_name} AS {query}\"\n",
    "cursor.execute(create_table_qry)\n",
    "conn.commit()\n",
    "conn.close()\n",
    "'''\n",
    "cursor.close()\n"
   ]
  }
 ],
 "metadata": {
  "kernelspec": {
   "display_name": "Python 3",
   "language": "python",
   "name": "python3"
  },
  "language_info": {
   "codemirror_mode": {
    "name": "ipython",
    "version": 3
   },
   "file_extension": ".py",
   "mimetype": "text/x-python",
   "name": "python",
   "nbconvert_exporter": "python",
   "pygments_lexer": "ipython3",
   "version": "3.11.3"
  },
  "orig_nbformat": 4
 },
 "nbformat": 4,
 "nbformat_minor": 2
}
