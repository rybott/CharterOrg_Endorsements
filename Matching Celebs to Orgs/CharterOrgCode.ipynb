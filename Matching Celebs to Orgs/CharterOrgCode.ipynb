{
 "cells": [
  {
   "cell_type": "markdown",
   "metadata": {},
   "source": [
    "# Running the Code"
   ]
  },
  {
   "cell_type": "code",
   "execution_count": 1,
   "metadata": {},
   "outputs": [],
   "source": [
    "from bs4 import BeautifulSoup\n",
    "import requests\n",
    "import pandas as pd\n",
    "\n",
    "url = \"https://www.looktothestars.org/charity\"\n",
    "response = requests.get(url)\n",
    "soup = BeautifulSoup(response.content, 'html.parser')\n",
    "Organizations = soup.find_all('h3',{'class': 'media-heading'})\n",
    "\n",
    "\n",
    "# Getting the Celebrities\n",
    "Organization_List = []\n",
    "Celebrity_List = []\n",
    "\n",
    "for Organization in Organizations:\n",
    "  Organization_Name = Organization.find('a').get_text()\n",
    "  Supporter_URL = Organization.find('a')['href']\n",
    "  \n",
    "  response_new = requests.get(Supporter_URL)\n",
    "  soup_new = BeautifulSoup(response_new.content, 'html.parser') \n",
    "\n",
    "  supporters = soup_new.find('section', {'id': 'supporters'})\n",
    "  celebrities = supporters.find_all('div', {'class': 'media-body'})\n",
    "\n",
    "  for celebrity in celebrities:\n",
    "    name_clean1 = celebrity.text\n",
    "    \n",
    "    Organization_List.append(Organization_Name)\n",
    "    Celebrity_List.append(name_clean1)\n",
    "\n",
    "List_of_Lists = [Organization_List,Celebrity_List]\n"
   ]
  },
  {
   "cell_type": "code",
   "execution_count": 9,
   "metadata": {},
   "outputs": [
    {
     "name": "stdout",
     "output_type": "stream",
     "text": [
      "<class 'pandas.core.frame.DataFrame'>\n",
      "RangeIndex: 7801 entries, 0 to 7800\n",
      "Data columns (total 2 columns):\n",
      " #   Column        Non-Null Count  Dtype \n",
      "---  ------        --------------  ----- \n",
      " 0   Organization  7801 non-null   object\n",
      " 1   celebrity     7801 non-null   object\n",
      "dtypes: object(2)\n",
      "memory usage: 122.0+ KB\n",
      "None\n"
     ]
    }
   ],
   "source": [
    "celebrity_df = pd.DataFrame(List_of_Lists).T\n",
    "celebrity_df.columns = [\"Organization\", \"celebrity\"]\n",
    "\n",
    "print(celebrity_df.info())\n",
    "\n",
    "with pd.ExcelWriter('Celebrity_Org.xlsx') as writer:\n",
    "    celebrity_df.to_excel(writer, sheet_name='Sheet1', index=True)\n"
   ]
  }
 ],
 "metadata": {
  "kernelspec": {
   "display_name": "Python 3",
   "language": "python",
   "name": "python3"
  },
  "language_info": {
   "codemirror_mode": {
    "name": "ipython",
    "version": 3
   },
   "file_extension": ".py",
   "mimetype": "text/x-python",
   "name": "python",
   "nbconvert_exporter": "python",
   "pygments_lexer": "ipython3",
   "version": "3.11.8"
  }
 },
 "nbformat": 4,
 "nbformat_minor": 2
}
