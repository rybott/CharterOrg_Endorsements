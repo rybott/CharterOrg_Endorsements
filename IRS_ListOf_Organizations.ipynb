{
 "cells": [
  {
   "cell_type": "code",
   "execution_count": 2,
   "metadata": {},
   "outputs": [
    {
     "name": "stdout",
     "output_type": "stream",
     "text": [
      "24849\n"
     ]
    }
   ],
   "source": [
    "import pandas as pd\n",
    "import numpy as np\n",
    "\n",
    "list_of_stuff = []\n",
    "f = open('eo2019', 'r')\n",
    "\n",
    "for line in f:\n",
    "    line = line.strip()\n",
    "    columns = line.split()\n",
    "    list_of_stuff.append(columns)\n",
    "\n",
    "print(len(list_of_stuff))\n"
   ]
  },
  {
   "cell_type": "code",
   "execution_count": 3,
   "metadata": {},
   "outputs": [],
   "source": [
    "new_list = []\n",
    "for i in range(0, len(list_of_stuff)):\n",
    "    list_slice = list_of_stuff[i]\n",
    "    for index, item in enumerate(list_slice):\n",
    "        if isinstance(item, str) and any(char.isdigit() for char in item) and item.endswith('NN'):\n",
    "            ending_index = index\n",
    "            break\n",
    "\n",
    "    if ending_index != -1:\n",
    "        # Include all elements to the left of the found index\n",
    "        left_elements = list_slice[:ending_index]\n",
    "        new_list.append(left_elements)\n",
    "    else:\n",
    "        pass\n",
    "\n",
    "list_organization = []\n",
    "for i in range(0, len(new_list)):\n",
    "    cleaned_element = new_list[i][1:]\n",
    "    joined_element = \" \".join(cleaned_element)\n",
    "    list_organization.append(joined_element)\n",
    "\n",
    "df = pd.DataFrame(list_organization)\n",
    "\n",
    "with pd.ExcelWriter('list of Organizations.xlsx') as writer:\n",
    "    df.to_excel(writer, sheet_name='Sheet1', index=False)\n",
    "      "
   ]
  }
 ],
 "metadata": {
  "kernelspec": {
   "display_name": "Python 3",
   "language": "python",
   "name": "python3"
  },
  "language_info": {
   "codemirror_mode": {
    "name": "ipython",
    "version": 3
   },
   "file_extension": ".py",
   "mimetype": "text/x-python",
   "name": "python",
   "nbconvert_exporter": "python",
   "pygments_lexer": "ipython3",
   "version": "3.11.4"
  },
  "orig_nbformat": 4
 },
 "nbformat": 4,
 "nbformat_minor": 2
}
